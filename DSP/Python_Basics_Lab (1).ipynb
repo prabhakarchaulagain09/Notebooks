{
 "cells": [
  {
   "cell_type": "code",
   "execution_count": 2,
   "id": "249643e5-e445-4277-be60-94aba185f067",
   "metadata": {},
   "outputs": [
    {
     "name": "stdin",
     "output_type": "stream",
     "text": [
      "Enter the first number:  2\n",
      "Enter the second number:  3\n"
     ]
    },
    {
     "name": "stdout",
     "output_type": "stream",
     "text": [
      "Sum: 5.0\n",
      "Difference: -1.0\n",
      "Product: 6.0\n",
      "Quotient: 0.6666666666666666\n"
     ]
    }
   ],
   "source": [
    "#1. Simple Arithmetic: Write a Python program to take two numbers as input and output their sum, difference, product, and quotient.\n",
    "\n",
    "def simple_arithmetic():\n",
    "\n",
    "    num1 = float(input(\"Enter the first number: \"))\n",
    "    num2 = float(input(\"Enter the second number: \"))\n",
    "\n",
    "\n",
    "    sum_result = num1 + num2\n",
    "    difference_result = num1 - num2\n",
    "    product_result = num1 * num2\n",
    "    if num2 != 0:\n",
    "        quotient_result = num1 / num2\n",
    "    else:\n",
    "        quotient_result = \"undefined (division by zero)\"\n",
    "\n",
    "\n",
    "    print(f\"Sum: {sum_result}\")\n",
    "    print(f\"Difference: {difference_result}\")\n",
    "    print(f\"Product: {product_result}\")\n",
    "    print(f\"Quotient: {quotient_result}\")\n",
    "\n",
    "if __name__ == \"__main__\":\n",
    "    simple_arithmetic()"
   ]
  },
  {
   "cell_type": "code",
   "execution_count": 4,
   "id": "090252d5-a2b8-4530-b429-0234dbb66522",
   "metadata": {},
   "outputs": [
    {
     "name": "stdin",
     "output_type": "stream",
     "text": [
      "Enter a number:  4\n"
     ]
    },
    {
     "name": "stdout",
     "output_type": "stream",
     "text": [
      "4 is even.\n"
     ]
    }
   ],
   "source": [
    "#2. Even or Odd: Ask the user for a number and print whether it is even or odd.\n",
    "\n",
    "def even_or_odd():\n",
    "\n",
    "    num = int(input(\"Enter a number: \"))\n",
    "\n",
    "\n",
    "    if num % 2 == 0:\n",
    "        print(f\"{num} is even.\")\n",
    "    else:\n",
    "        print(f\"{num} is odd.\")\n",
    "\n",
    "if __name__ == \"__main__\":\n",
    "    even_or_odd()"
   ]
  },
  {
   "cell_type": "code",
   "execution_count": 6,
   "id": "a7678a0f-eb39-47de-9e69-a0ec327a4cef",
   "metadata": {},
   "outputs": [
    {
     "name": "stdin",
     "output_type": "stream",
     "text": [
      "Enter a number:  4\n"
     ]
    },
    {
     "name": "stdout",
     "output_type": "stream",
     "text": [
      "The factorial of 4 is 24.\n"
     ]
    }
   ],
   "source": [
    "#3. Factorial Function: Create a function to compute the factorial of a number.\n",
    "\n",
    "def factorial(num):\n",
    "    \n",
    "    if num == 0:\n",
    "        return 1\n",
    "    else:\n",
    "        return num * factorial(num - 1)\n",
    "    \n",
    "if __name__ == \"__main__\":\n",
    "    num = int(input(\"Enter a number: \"))\n",
    "    print(f\"The factorial of {num} is {factorial(num)}.\")"
   ]
  },
  {
   "cell_type": "code",
   "execution_count": 8,
   "id": "b554be25-4c48-4856-9573-f78c99386a9f",
   "metadata": {},
   "outputs": [
    {
     "name": "stdout",
     "output_type": "stream",
     "text": [
      "1. Add item\n",
      "2. Remove item\n",
      "3. Sort list\n",
      "4. Display list\n",
      "5. Exit\n"
     ]
    },
    {
     "name": "stdin",
     "output_type": "stream",
     "text": [
      "Enter your choice:  1\n",
      "Enter an item:  45\n"
     ]
    },
    {
     "name": "stdout",
     "output_type": "stream",
     "text": [
      "1. Add item\n",
      "2. Remove item\n",
      "3. Sort list\n",
      "4. Display list\n",
      "5. Exit\n"
     ]
    },
    {
     "name": "stdin",
     "output_type": "stream",
     "text": [
      "Enter your choice:  1\n",
      "Enter an item:  54\n"
     ]
    },
    {
     "name": "stdout",
     "output_type": "stream",
     "text": [
      "1. Add item\n",
      "2. Remove item\n",
      "3. Sort list\n",
      "4. Display list\n",
      "5. Exit\n"
     ]
    },
    {
     "name": "stdin",
     "output_type": "stream",
     "text": [
      "Enter your choice:  3\n"
     ]
    },
    {
     "name": "stdout",
     "output_type": "stream",
     "text": [
      "1. Add item\n",
      "2. Remove item\n",
      "3. Sort list\n",
      "4. Display list\n",
      "5. Exit\n"
     ]
    },
    {
     "name": "stdin",
     "output_type": "stream",
     "text": [
      "Enter your choice:  4\n"
     ]
    },
    {
     "name": "stdout",
     "output_type": "stream",
     "text": [
      "['45', '54']\n",
      "1. Add item\n",
      "2. Remove item\n",
      "3. Sort list\n",
      "4. Display list\n",
      "5. Exit\n"
     ]
    },
    {
     "name": "stdin",
     "output_type": "stream",
     "text": [
      "Enter your choice:  5\n"
     ]
    }
   ],
   "source": [
    "#4. List Operations: Write a program to create a list, append an item, remove an item, and sort it.\n",
    "\n",
    "def list_operations():\n",
    "    \n",
    "    my_list = []\n",
    "\n",
    "    while True:\n",
    "        print(\"1. Add item\")\n",
    "        print(\"2. Remove item\")\n",
    "        print(\"3. Sort list\")\n",
    "        print(\"4. Display list\")\n",
    "        print(\"5. Exit\")\n",
    "        choice = int(input(\"Enter your choice: \"))\n",
    "\n",
    "        if choice == 1:\n",
    "            item = input(\"Enter an item: \")\n",
    "            my_list.append(item)\n",
    "        elif choice == 2:\n",
    "            item = input(\"Enter an item to remove: \")\n",
    "            my_list.remove(item)\n",
    "        elif choice == 3:\n",
    "            my_list.sort()\n",
    "        elif choice == 4:\n",
    "            print(my_list)\n",
    "        elif choice == 5:\n",
    "            break\n",
    "        else:\n",
    "            print(\"Invalid choice. Please try again.\")\n",
    "\n",
    "if __name__ == \"__main__\":\n",
    "    list_operations()\n"
   ]
  },
  {
   "cell_type": "code",
   "execution_count": 12,
   "id": "79cf6e57-a977-45a5-afa6-024756ce9fed",
   "metadata": {},
   "outputs": [
    {
     "name": "stdin",
     "output_type": "stream",
     "text": [
      "Enter a student name:  Eve\n"
     ]
    },
    {
     "name": "stdout",
     "output_type": "stream",
     "text": [
      "Eve's grade is 87.\n"
     ]
    }
   ],
   "source": [
    "#5. Dictionary Lookup: Create a dictionary of students and their grades. Allow the user to input a student name and display their grade.\n",
    "\n",
    "def dictionary_lookup():\n",
    "\n",
    "    students = {\n",
    "        \"Alice\": 90,\n",
    "        \"Bob\": 85,\n",
    "        \"Charlie\": 88,\n",
    "        \"David\": 92,\n",
    "        \"Eve\": 87\n",
    "    }\n",
    "\n",
    "    name = input(\"Enter a student name: \")\n",
    "\n",
    "    if name in students:\n",
    "        print(f\"{name}'s grade is {students[name]}.\")\n",
    "    else:\n",
    "        print(\"Student not found.\")\n",
    "\n",
    "if __name__ == \"__main__\":\n",
    "    dictionary_lookup()"
   ]
  },
  {
   "cell_type": "code",
   "execution_count": null,
   "id": "e2b537f3-96b9-4a5d-8b71-b3792ed5526b",
   "metadata": {},
   "outputs": [],
   "source": []
  }
 ],
 "metadata": {
  "kernelspec": {
   "display_name": "Python [conda env:base] *",
   "language": "python",
   "name": "conda-base-py"
  },
  "language_info": {
   "codemirror_mode": {
    "name": "ipython",
    "version": 3
   },
   "file_extension": ".py",
   "mimetype": "text/x-python",
   "name": "python",
   "nbconvert_exporter": "python",
   "pygments_lexer": "ipython3",
   "version": "3.12.7"
  }
 },
 "nbformat": 4,
 "nbformat_minor": 5
}
