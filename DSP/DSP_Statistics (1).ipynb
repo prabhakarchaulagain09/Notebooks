{
 "cells": [
  {
   "cell_type": "code",
   "execution_count": 18,
   "id": "19d0713f-056d-428c-a801-ddc1f81c4504",
   "metadata": {},
   "outputs": [],
   "source": [
    "import pandas as pd\n",
    "import numpy as np\n",
    "from scipy.stats import mode, skew, kurtosis\n",
    "from sklearn.datasets import load_iris\n"
   ]
  },
  {
   "cell_type": "code",
   "execution_count": 30,
   "id": "08eadd24-d1be-4785-9807-5f3b46b3abbb",
   "metadata": {},
   "outputs": [
    {
     "name": "stdout",
     "output_type": "stream",
     "text": [
      "First 5 rows of the dataset:\n",
      "   sepal length (cm)  sepal width (cm)  petal length (cm)  petal width (cm)  \\\n",
      "0                5.1               3.5                1.4               0.2   \n",
      "1                4.9               3.0                1.4               0.2   \n",
      "2                4.7               3.2                1.3               0.2   \n",
      "3                4.6               3.1                1.5               0.2   \n",
      "4                5.0               3.6                1.4               0.2   \n",
      "\n",
      "   target   class  \n",
      "0       0  setosa  \n",
      "1       0  setosa  \n",
      "2       0  setosa  \n",
      "3       0  setosa  \n",
      "4       0  setosa  \n"
     ]
    }
   ],
   "source": [
    "# Load the dataset\n",
    "iris = load_iris()\n",
    "\n",
    "# Convert to Pandas DataFrame\n",
    "iris_df = pd.DataFrame(data=iris.data, columns=iris.feature_names)\n",
    "\n",
    "# Adding target column with class labels\n",
    "iris_df['target'] = iris.target\n",
    "iris_df['class'] = iris.target_names[iris.target]\n",
    "\n",
    "\n",
    "# Display the first 5 rows of the dataset\n",
    "print(\"First 5 rows of the dataset:\")\n",
    "print(iris_df.head())\n"
   ]
  },
  {
   "cell_type": "code",
   "execution_count": 32,
   "id": "ccde180c-dc97-4362-8b30-cfe83b69554e",
   "metadata": {},
   "outputs": [
    {
     "name": "stdout",
     "output_type": "stream",
     "text": [
      "\n",
      "Missing values in the dataset:\n",
      "sepal length (cm)    0\n",
      "sepal width (cm)     0\n",
      "petal length (cm)    0\n",
      "petal width (cm)     0\n",
      "target               0\n",
      "class                0\n",
      "dtype: int64\n",
      "\n",
      "Column names and data types:\n",
      "sepal length (cm)    float64\n",
      "sepal width (cm)     float64\n",
      "petal length (cm)    float64\n",
      "petal width (cm)     float64\n",
      "target                 int32\n",
      "class                 object\n",
      "dtype: object\n"
     ]
    }
   ],
   "source": [
    "# Check for missing values\n",
    "print(\"\\nMissing values in the dataset:\")\n",
    "print(iris_df.isnull().sum())\n",
    "\n",
    "# Display column names and their data types\n",
    "print(\"\\nColumn names and data types:\")\n",
    "print(iris_df.dtypes)\n"
   ]
  },
  {
   "cell_type": "code",
   "execution_count": 28,
   "id": "43141953-8d81-46b4-8d77-fdebd6f1f4d6",
   "metadata": {},
   "outputs": [
    {
     "name": "stdout",
     "output_type": "stream",
     "text": [
      "\n",
      "Statistical Analysis:\n",
      "Mean:\n",
      "sepal length (cm)    5.843333\n",
      "sepal width (cm)     3.057333\n",
      "petal length (cm)    3.758000\n",
      "petal width (cm)     1.199333\n",
      "dtype: float64\n",
      "\n",
      "Median:\n",
      "sepal length (cm)    5.80\n",
      "sepal width (cm)     3.00\n",
      "petal length (cm)    4.35\n",
      "petal width (cm)     1.30\n",
      "dtype: float64\n",
      "\n",
      "Mode:\n",
      "sepal length (cm)    5.0\n",
      "sepal width (cm)     3.0\n",
      "petal length (cm)    1.4\n",
      "petal width (cm)     0.2\n",
      "dtype: float64\n",
      "\n",
      "Skewness:\n",
      "sepal length (cm)    0.311753\n",
      "sepal width (cm)     0.315767\n",
      "petal length (cm)   -0.272128\n",
      "petal width (cm)    -0.101934\n",
      "dtype: float64\n",
      "\n",
      "Kurtosis:\n",
      "sepal length (cm)   -0.573568\n",
      "sepal width (cm)     0.180976\n",
      "petal length (cm)   -1.395536\n",
      "petal width (cm)    -1.336067\n",
      "dtype: float64\n"
     ]
    }
   ],
   "source": [
    "# Extract numeric features\n",
    "numeric_features = iris_df.iloc[:, :4]\n",
    "\n",
    "# Mean\n",
    "mean_values = numeric_features.mean()\n",
    "\n",
    "# Median\n",
    "median_values = numeric_features.median()\n",
    "\n",
    "# Mode\n",
    "mode_values = numeric_features.apply(lambda x: mode(x, keepdims=True).mode[0])\n",
    "\n",
    "# Skewness\n",
    "skewness_values = numeric_features.apply(skew)\n",
    "\n",
    "# Kurtosis\n",
    "kurtosis_values = numeric_features.apply(kurtosis)\n",
    "\n",
    "# Display results\n",
    "print(\"\\nStatistical Analysis:\")\n",
    "print(f\"Mean:\\n{mean_values}\")\n",
    "print(f\"\\nMedian:\\n{median_values}\")\n",
    "print(f\"\\nMode:\\n{mode_values}\")\n",
    "print(f\"\\nSkewness:\\n{skewness_values}\")\n",
    "print(f\"\\nKurtosis:\\n{kurtosis_values}\")\n",
    "\n"
   ]
  },
  {
   "cell_type": "code",
   "execution_count": null,
   "id": "e789a656-cd0d-425f-a353-2b215ce7ef70",
   "metadata": {},
   "outputs": [],
   "source": []
  }
 ],
 "metadata": {
  "kernelspec": {
   "display_name": "Python [conda env:base] *",
   "language": "python",
   "name": "conda-base-py"
  },
  "language_info": {
   "codemirror_mode": {
    "name": "ipython",
    "version": 3
   },
   "file_extension": ".py",
   "mimetype": "text/x-python",
   "name": "python",
   "nbconvert_exporter": "python",
   "pygments_lexer": "ipython3",
   "version": "3.12.7"
  }
 },
 "nbformat": 4,
 "nbformat_minor": 5
}
